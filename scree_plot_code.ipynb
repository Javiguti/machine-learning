{
  "nbformat": 4,
  "nbformat_minor": 0,
  "metadata": {
    "colab": {
      "provenance": [],
      "authorship_tag": "ABX9TyM4eNRBMHDPkLJq28b/idlS",
      "include_colab_link": true
    },
    "kernelspec": {
      "name": "python3",
      "display_name": "Python 3"
    },
    "language_info": {
      "name": "python"
    }
  },
  "cells": [
    {
      "cell_type": "markdown",
      "metadata": {
        "id": "view-in-github",
        "colab_type": "text"
      },
      "source": [
        "<a href=\"https://colab.research.google.com/github/Javiguti/machine-learning/blob/main/scree_plot_code.ipynb\" target=\"_parent\"><img src=\"https://colab.research.google.com/assets/colab-badge.svg\" alt=\"Open In Colab\"/></a>"
      ]
    },
    {
      "cell_type": "code",
      "execution_count": 26,
      "metadata": {
        "id": "YAn5fyOoGAJo"
      },
      "outputs": [],
      "source": [
        "## importa las librerias\n",
        "import pandas as pd\n",
        "import numpy as np\n",
        "import random as rd\n",
        "from sklearn.decomposition import PCA\n",
        "from sklearn import preprocessing\n",
        "import matplotlib.pyplot as plt # NOTE: This was tested with matplotlib v. 2.1.0\n",
        "import matplotlib.cm\n",
        "\n",
        " \n",
        "\n"
      ]
    },
    {
      "cell_type": "code",
      "source": [
        "import pandas as pd\n",
        "from sklearn.preprocessing import StandardScaler\n",
        "\n",
        "from locale import D_FMT\n",
        "df = pd.read_csv(\n",
        "    'https://raw.githubusercontent.com/Javiguti/machine-learning/main/practical%20application%203/csv_result-hepatitis_with_no_missing.csv'\n",
        ")\n",
        "#dropeo la columna de id (que te genera WEKA) y de Class (al ser non-supervised)\n",
        "#cambio los valores de las clases a 1 y 0 para que pueda hacer pca\n",
        "df.drop('id', inplace=True, axis=1)\n",
        "df.drop('Class', inplace=True, axis=1)\n",
        "df.SEX=df.SEX.map(dict(male=1, female=0))\n",
        "df.STEROID=df.STEROID.map(dict(yes=1, no=0))\n",
        "df.ANTIVIRALS=df.ANTIVIRALS.map(dict(yes=1, no=0))\n",
        "df.FATIGUE=df.FATIGUE.map(dict(yes=1, no=0))\n",
        "df.MALAISE =df.MALAISE.map(dict(yes=1, no=0))\n",
        "df.ANOREXIA =df.ANOREXIA.map(dict(yes=1, no=0))\n",
        "df.LIVER_BIG =df.LIVER_BIG.map(dict(yes=1, no=0))\n",
        "df.LIVER_FIRM  =df.LIVER_FIRM .map(dict(yes=1, no=0))\n",
        "df.SPLEEN_PALPABLE =df.SPLEEN_PALPABLE.map(dict(yes=1, no=0))\n",
        "df.SPIDERS =df.SPIDERS.map(dict(yes=1, no=0))\n",
        "df.ASCITES =df.ASCITES.map(dict(yes=1, no=0))\n",
        "df.VARICES  =df.VARICES.map(dict(yes=1, no=0))\n",
        "df.HISTOLOGY    =df.HISTOLOGY.map(dict(yes=1, no=0))\n",
        "\n",
        "print(df.head())\n",
        "\n",
        "\n",
        "#define scaler\n",
        "scaler = StandardScaler()\n",
        "\n",
        "#create copy of DataFrame\n",
        "scaled_df=df.copy()\n",
        "\n",
        "#created scaled version of DataFrame\n",
        "scaled_df=pd.DataFrame(scaler.fit_transform(scaled_df), columns=scaled_df.columns)"
      ],
      "metadata": {
        "colab": {
          "base_uri": "https://localhost:8080/"
        },
        "id": "9Me691yjLXAv",
        "outputId": "6ef822c8-a8c4-46da-97a3-b3995767905c"
      },
      "execution_count": 19,
      "outputs": [
        {
          "output_type": "stream",
          "name": "stdout",
          "text": [
            "   AGE  SEX  STEROID  ANTIVIRALS  FATIGUE  MALAISE  ANOREXIA  LIVER_BIG  \\\n",
            "0   30    1        0           0        0        0         0          0   \n",
            "1   50    0        0           0        1        0         0          0   \n",
            "2   78    0        1           0        1        0         0          1   \n",
            "3   31    0        1           1        0        0         0          1   \n",
            "4   34    0        1           0        0        0         0          1   \n",
            "\n",
            "   LIVER_FIRM  SPLEEN_PALPABLE  SPIDERS  ASCITES  VARICES  BILIRUBIN  \\\n",
            "0           0                0        0        0        0        1.0   \n",
            "1           0                0        0        0        0        0.9   \n",
            "2           0                0        0        0        0        0.7   \n",
            "3           0                0        0        0        0        0.7   \n",
            "4           0                0        0        0        0        1.0   \n",
            "\n",
            "   ALK_PHOSPHATE   SGOT  ALBUMIN    PROTIME  HISTOLOGY  \n",
            "0      85.000000   18.0      4.0  61.852273          0  \n",
            "1     135.000000   42.0      3.5  61.852273          0  \n",
            "2      96.000000   32.0      4.0  61.852273          0  \n",
            "3      46.000000   52.0      4.0  80.000000          0  \n",
            "4     105.325397  200.0      4.0  61.852273          0  \n"
          ]
        }
      ]
    },
    {
      "cell_type": "code",
      "source": [
        "from sklearn.decomposition import PCA\n",
        "\n",
        "#define PCA model to use\n",
        "pca = PCA()\n",
        "\n",
        "#fit PCA model to data\n",
        "pca_fit = pca.fit(scaled_df)"
      ],
      "metadata": {
        "id": "oiFy3WcvLlSA"
      },
      "execution_count": 24,
      "outputs": []
    },
    {
      "cell_type": "code",
      "source": [
        "import matplotlib.pyplot as plt\n",
        "import numpy as np\n",
        "\n",
        "PC_values = np.arange(pca.n_components_) + 1\n",
        "plt.plot(PC_values, pca.explained_variance_ratio_, 'o-', linewidth=2, color='blue')\n",
        "plt.title('Scree Plot')\n",
        "plt.xlabel('Principal Component')\n",
        "plt.ylabel('Variance Explained')\n",
        "plt.show()"
      ],
      "metadata": {
        "colab": {
          "base_uri": "https://localhost:8080/",
          "height": 295
        },
        "id": "tLZIgYdLLrJY",
        "outputId": "7630acc2-fcc5-4524-d515-c487b6e6f5a4"
      },
      "execution_count": 25,
      "outputs": [
        {
          "output_type": "display_data",
          "data": {
            "text/plain": [
              "<Figure size 432x288 with 1 Axes>"
            ],
            "image/png": "[encoded data removed]"
          },
          "metadata": {
            "needs_background": "light"
          }
        }
      ]
    }
  ]
}